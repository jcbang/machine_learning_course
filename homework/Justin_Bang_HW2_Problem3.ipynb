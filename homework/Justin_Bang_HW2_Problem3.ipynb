{
  "nbformat": 4,
  "nbformat_minor": 0,
  "metadata": {
    "colab": {
      "name": "Justin_Bang_HW2_Problem3",
      "provenance": []
    },
    "kernelspec": {
      "name": "python3",
      "display_name": "Python 3"
    },
    "accelerator": "GPU"
  },
  "cells": [
    {
      "cell_type": "markdown",
      "metadata": {
        "id": "RBODcEyc5fmz",
        "colab_type": "text"
      },
      "source": [
        "# HW2 Problem 3 by Justin Bang\n",
        "\n",
        "\n",
        "> Used: https://machinelearningmastery.com/how-to-develop-a-cnn-from-scratch-for-cifar-10-photo-classification/\n",
        "\n"
      ]
    },
    {
      "cell_type": "markdown",
      "metadata": {
        "id": "l34GNy7tyNks",
        "colab_type": "text"
      },
      "source": [
        "## Loading and processing the CIFAR10 data set"
      ]
    },
    {
      "cell_type": "code",
      "metadata": {
        "id": "FSJyddqGexl5",
        "colab_type": "code",
        "colab": {
          "base_uri": "https://localhost:8080/",
          "height": 113
        },
        "outputId": "02b5eb3c-9124-4ad9-860e-fc72dee1a0fb"
      },
      "source": [
        "import tensorflow as tf\n",
        "import matplotlib.pyplot as plt\n",
        "import numpy as np\n",
        "from tensorflow import keras\n",
        "from keras.layers import Dense\n",
        "from keras.datasets import cifar10\n",
        "from keras.utils import to_categorical\n",
        "from keras import optimizers, layers, models\n",
        "\n",
        "\n",
        "\n",
        "(train_images, train_labels), (test_images, test_labels) = cifar10.load_data()\n",
        "train_images = train_images / 255.0\n",
        "test_images = test_images / 255.0\n",
        "train_labels = to_categorical(train_labels)\n",
        "test_labels = to_categorical(test_labels)"
      ],
      "execution_count": 2,
      "outputs": [
        {
          "output_type": "display_data",
          "data": {
            "text/html": [
              "<p style=\"color: red;\">\n",
              "The default version of TensorFlow in Colab will soon switch to TensorFlow 2.x.<br>\n",
              "We recommend you <a href=\"https://www.tensorflow.org/guide/migrate\" target=\"_blank\">upgrade</a> now \n",
              "or ensure your notebook will continue to use TensorFlow 1.x via the <code>%tensorflow_version 1.x</code> magic:\n",
              "<a href=\"https://colab.research.google.com/notebooks/tensorflow_version.ipynb\" target=\"_blank\">more info</a>.</p>\n"
            ],
            "text/plain": [
              "<IPython.core.display.HTML object>"
            ]
          },
          "metadata": {
            "tags": []
          }
        },
        {
          "output_type": "stream",
          "text": [
            "Using TensorFlow backend.\n"
          ],
          "name": "stderr"
        },
        {
          "output_type": "stream",
          "text": [
            "Downloading data from https://www.cs.toronto.edu/~kriz/cifar-10-python.tar.gz\n",
            "170500096/170498071 [==============================] - 11s 0us/step\n"
          ],
          "name": "stdout"
        }
      ]
    },
    {
      "cell_type": "markdown",
      "metadata": {
        "id": "bulqmDh8H2rm",
        "colab_type": "text"
      },
      "source": [
        "# Underfit Model"
      ]
    },
    {
      "cell_type": "code",
      "metadata": {
        "id": "pPz8i-PJH5Ym",
        "colab_type": "code",
        "colab": {
          "base_uri": "https://localhost:8080/",
          "height": 0
        },
        "outputId": "a58c9320-cfb0-4fe9-e613-eb64d1052b0e"
      },
      "source": [
        "model_underfit = models.Sequential()\n",
        "model_underfit.add(layers.Conv2D(64, (3, 3), activation='sigmoid', kernel_initializer='he_uniform', padding='same', input_shape=(32, 32, 3)))\n",
        "model_underfit.add(layers.Conv2D(64, (3, 3), activation='sigmoid', kernel_initializer='he_uniform', padding='same'))\n",
        "model_underfit.add(layers.MaxPooling2D((2, 2)))\n",
        "model_underfit.add(layers.Conv2D(64, (3, 3), activation='sigmoid', kernel_initializer='he_uniform', padding='same'))\n",
        "model_underfit.add(layers.Conv2D(64, (3, 3), activation='tanh', kernel_initializer='he_uniform', padding='same'))\n",
        "model_underfit.add(layers.MaxPooling2D((2, 2)))\n",
        "model_underfit.add(layers.Flatten())\n",
        "model_underfit.add(layers.Dropout(0.9))\n",
        "model_underfit.add(layers.Dense(32, activation='sigmoid', kernel_initializer='he_uniform'))\n",
        "model_underfit.add(layers.Dense(10, activation='softmax'))\n",
        "\n",
        "opt = optimizers.SGD(lr=0.001, momentum=0.9)\n",
        "model_underfit.compile(\n",
        "    optimizer=opt, \n",
        "    loss='categorical_crossentropy', \n",
        "    metrics=['accuracy']\n",
        ")\n",
        "\n",
        "epochs = 15\n",
        "history_underfit = model_underfit.fit(\n",
        "    train_images, \n",
        "    train_labels, \n",
        "    epochs=epochs, \n",
        "    batch_size=64, \n",
        "    validation_data=(test_images, test_labels)\n",
        ")\n",
        "\n",
        "# Training/test loss/accuracy during training\n",
        "history_dict_underfit = history_underfit.history\n",
        "loss_values_underfit = history_dict_underfit['loss']\n",
        "test_loss_values_underfit = history_dict_underfit['val_loss']\n",
        "epochs_range = range(1, epochs+1)\n",
        "plt.plot(epochs_range, loss_values_underfit, 'bo', label='Training loss')\n",
        "plt.plot(epochs_range, test_loss_values_underfit, 'ro', label='Test loss')\n",
        "plt.title('Training and test loss')\n",
        "plt.xlabel('Epochs')\n",
        "plt.ylabel('Loss')\n",
        "plt.legend()\n",
        "plt.show()\n",
        "\n",
        "# Training and test accuracy\n",
        "acc_values_underfit = history_dict_underfit['acc']\n",
        "test_acc_values_underfit = history_dict_underfit['val_acc']\n",
        "plt.plot(epochs_range, acc_values_underfit, 'bo', label='Training accuracy')\n",
        "plt.plot(epochs_range, test_acc_values_underfit, 'ro', label='Test accuracy')\n",
        "plt.title('Training and test accuracy')\n",
        "plt.xlabel('Epochs')\n",
        "plt.ylabel('Accuracy')\n",
        "plt.legend()\n",
        "plt.show()"
      ],
      "execution_count": 2,
      "outputs": [
        {
          "output_type": "stream",
          "text": [
            "WARNING:tensorflow:From /usr/local/lib/python3.6/dist-packages/keras/backend/tensorflow_backend.py:66: The name tf.get_default_graph is deprecated. Please use tf.compat.v1.get_default_graph instead.\n",
            "\n",
            "WARNING:tensorflow:From /usr/local/lib/python3.6/dist-packages/keras/backend/tensorflow_backend.py:541: The name tf.placeholder is deprecated. Please use tf.compat.v1.placeholder instead.\n",
            "\n",
            "WARNING:tensorflow:From /usr/local/lib/python3.6/dist-packages/keras/backend/tensorflow_backend.py:4432: The name tf.random_uniform is deprecated. Please use tf.random.uniform instead.\n",
            "\n",
            "WARNING:tensorflow:From /usr/local/lib/python3.6/dist-packages/keras/backend/tensorflow_backend.py:4267: The name tf.nn.max_pool is deprecated. Please use tf.nn.max_pool2d instead.\n",
            "\n",
            "WARNING:tensorflow:From /usr/local/lib/python3.6/dist-packages/keras/backend/tensorflow_backend.py:148: The name tf.placeholder_with_default is deprecated. Please use tf.compat.v1.placeholder_with_default instead.\n",
            "\n",
            "WARNING:tensorflow:From /usr/local/lib/python3.6/dist-packages/keras/backend/tensorflow_backend.py:3733: calling dropout (from tensorflow.python.ops.nn_ops) with keep_prob is deprecated and will be removed in a future version.\n",
            "Instructions for updating:\n",
            "Please use `rate` instead of `keep_prob`. Rate should be set to `rate = 1 - keep_prob`.\n",
            "WARNING:tensorflow:Large dropout rate: 0.9 (>0.5). In TensorFlow 2.x, dropout() uses dropout rate instead of keep_prob. Please ensure that this is intended.\n",
            "WARNING:tensorflow:From /usr/local/lib/python3.6/dist-packages/keras/optimizers.py:793: The name tf.train.Optimizer is deprecated. Please use tf.compat.v1.train.Optimizer instead.\n",
            "\n",
            "WARNING:tensorflow:From /usr/local/lib/python3.6/dist-packages/keras/backend/tensorflow_backend.py:3576: The name tf.log is deprecated. Please use tf.math.log instead.\n",
            "\n",
            "WARNING:tensorflow:From /usr/local/lib/python3.6/dist-packages/tensorflow_core/python/ops/math_grad.py:1424: where (from tensorflow.python.ops.array_ops) is deprecated and will be removed in a future version.\n",
            "Instructions for updating:\n",
            "Use tf.where in 2.0, which has the same broadcast rule as np.where\n",
            "WARNING:tensorflow:From /usr/local/lib/python3.6/dist-packages/keras/backend/tensorflow_backend.py:1033: The name tf.assign_add is deprecated. Please use tf.compat.v1.assign_add instead.\n",
            "\n",
            "WARNING:tensorflow:From /usr/local/lib/python3.6/dist-packages/keras/backend/tensorflow_backend.py:1020: The name tf.assign is deprecated. Please use tf.compat.v1.assign instead.\n",
            "\n",
            "WARNING:tensorflow:From /usr/local/lib/python3.6/dist-packages/keras/backend/tensorflow_backend.py:3005: The name tf.Session is deprecated. Please use tf.compat.v1.Session instead.\n",
            "\n",
            "Train on 50000 samples, validate on 10000 samples\n",
            "Epoch 1/15\n",
            "WARNING:tensorflow:From /usr/local/lib/python3.6/dist-packages/keras/backend/tensorflow_backend.py:190: The name tf.get_default_session is deprecated. Please use tf.compat.v1.get_default_session instead.\n",
            "\n",
            "WARNING:tensorflow:From /usr/local/lib/python3.6/dist-packages/keras/backend/tensorflow_backend.py:197: The name tf.ConfigProto is deprecated. Please use tf.compat.v1.ConfigProto instead.\n",
            "\n",
            "WARNING:tensorflow:From /usr/local/lib/python3.6/dist-packages/keras/backend/tensorflow_backend.py:207: The name tf.global_variables is deprecated. Please use tf.compat.v1.global_variables instead.\n",
            "\n",
            "WARNING:tensorflow:From /usr/local/lib/python3.6/dist-packages/keras/backend/tensorflow_backend.py:216: The name tf.is_variable_initialized is deprecated. Please use tf.compat.v1.is_variable_initialized instead.\n",
            "\n",
            "WARNING:tensorflow:From /usr/local/lib/python3.6/dist-packages/keras/backend/tensorflow_backend.py:223: The name tf.variables_initializer is deprecated. Please use tf.compat.v1.variables_initializer instead.\n",
            "\n",
            "50000/50000 [==============================] - 29s 583us/step - loss: 2.3360 - acc: 0.1001 - val_loss: 2.3101 - val_acc: 0.1000\n",
            "Epoch 2/15\n",
            "50000/50000 [==============================] - 20s 401us/step - loss: 2.3145 - acc: 0.0976 - val_loss: 2.3057 - val_acc: 0.1316\n",
            "Epoch 3/15\n",
            "50000/50000 [==============================] - 20s 402us/step - loss: 2.3098 - acc: 0.0987 - val_loss: 2.3038 - val_acc: 0.1000\n",
            "Epoch 4/15\n",
            "50000/50000 [==============================] - 20s 402us/step - loss: 2.3069 - acc: 0.1021 - val_loss: 2.3036 - val_acc: 0.1000\n",
            "Epoch 5/15\n",
            "50000/50000 [==============================] - 20s 401us/step - loss: 2.3056 - acc: 0.0989 - val_loss: 2.3030 - val_acc: 0.1000\n",
            "Epoch 6/15\n",
            "50000/50000 [==============================] - 20s 402us/step - loss: 2.3045 - acc: 0.0999 - val_loss: 2.3027 - val_acc: 0.1000\n",
            "Epoch 7/15\n",
            "50000/50000 [==============================] - 20s 400us/step - loss: 2.3038 - acc: 0.1017 - val_loss: 2.3028 - val_acc: 0.1132\n",
            "Epoch 8/15\n",
            "50000/50000 [==============================] - 20s 399us/step - loss: 2.3037 - acc: 0.0992 - val_loss: 2.3027 - val_acc: 0.1000\n",
            "Epoch 9/15\n",
            "50000/50000 [==============================] - 20s 402us/step - loss: 2.3030 - acc: 0.1026 - val_loss: 2.3027 - val_acc: 0.1000\n",
            "Epoch 10/15\n",
            "50000/50000 [==============================] - 20s 402us/step - loss: 2.3033 - acc: 0.1008 - val_loss: 2.3026 - val_acc: 0.1000\n",
            "Epoch 11/15\n",
            "50000/50000 [==============================] - 20s 409us/step - loss: 2.3035 - acc: 0.0995 - val_loss: 2.3027 - val_acc: 0.1000\n",
            "Epoch 12/15\n",
            "50000/50000 [==============================] - 21s 414us/step - loss: 2.3032 - acc: 0.0999 - val_loss: 2.3031 - val_acc: 0.1000\n",
            "Epoch 13/15\n",
            "50000/50000 [==============================] - 20s 406us/step - loss: 2.3035 - acc: 0.0980 - val_loss: 2.3027 - val_acc: 0.1000\n",
            "Epoch 14/15\n",
            "50000/50000 [==============================] - 20s 409us/step - loss: 2.3033 - acc: 0.0990 - val_loss: 2.3028 - val_acc: 0.1000\n",
            "Epoch 15/15\n",
            "50000/50000 [==============================] - 20s 405us/step - loss: 2.3029 - acc: 0.1017 - val_loss: 2.3027 - val_acc: 0.1000\n"
          ],
          "name": "stdout"
        },
        {
          "output_type": "display_data",
          "data": {
            "image/png": "[encoded data removed]",
            "text/plain": [
              "<Figure size 432x288 with 1 Axes>"
            ]
          },
          "metadata": {
            "tags": []
          }
        },
        {
          "output_type": "display_data",
          "data": {
            "image/png": "[encoded data removed]",
            "text/plain": [
              "<Figure size 432x288 with 1 Axes>"
            ]
          },
          "metadata": {
            "tags": []
          }
        }
      ]
    },
    {
      "cell_type": "markdown",
      "metadata": {
        "id": "qFvSfIxcIAVJ",
        "colab_type": "text"
      },
      "source": [
        "# Overfit Model"
      ]
    },
    {
      "cell_type": "code",
      "metadata": {
        "id": "lVyJP2wkIHrV",
        "colab_type": "code",
        "colab": {
          "base_uri": "https://localhost:8080/",
          "height": 0
        },
        "outputId": "268eb0fc-5332-4051-a661-bc94974e9a4e"
      },
      "source": [
        "model_overfit = models.Sequential()\n",
        "model_overfit.add(layers.Conv2D(32, (3, 3), activation='relu', kernel_initializer='he_uniform', padding='same', input_shape=(32, 32, 3)))\n",
        "model_overfit.add(layers.Conv2D(32, (3, 3), activation='relu', kernel_initializer='he_uniform', padding='same'))\n",
        "model_overfit.add(layers.MaxPooling2D((2, 2)))\n",
        "model_overfit.add(layers.Flatten())\n",
        "model_underfit.add(layers.Dropout(0.01))\n",
        "model_overfit.add(layers.Dense(128, activation='relu', kernel_initializer='he_uniform'))\n",
        "model_overfit.add(layers.Dense(10, activation='softmax'))\n",
        "\n",
        "opt = optimizers.SGD(lr=0.001, momentum=0.9)\n",
        "model_overfit.compile(\n",
        "    optimizer=opt, \n",
        "    loss='categorical_crossentropy', \n",
        "    metrics=['accuracy']\n",
        ")\n",
        "\n",
        "epochs = 20\n",
        "history_overfit = model_overfit.fit(\n",
        "    train_images, \n",
        "    train_labels, \n",
        "    epochs=epochs, \n",
        "    batch_size=64, \n",
        "    validation_data=(test_images, test_labels)\n",
        ")\n",
        "\n",
        "# Training/test loss/accuracy during training\n",
        "history_dict_overfit = history_overfit.history\n",
        "loss_values_overfit = history_dict_overfit['loss']\n",
        "test_loss_values_overfit = history_dict_overfit['val_loss']\n",
        "epochs_range = range(1, epochs+1)\n",
        "plt.plot(epochs_range, loss_values_overfit, 'bo', label='Training loss')\n",
        "plt.plot(epochs_range, test_loss_values_overfit, 'ro', label='Test loss')\n",
        "plt.title('Training and test loss')\n",
        "plt.xlabel('Epochs')\n",
        "plt.ylabel('Loss')\n",
        "plt.legend()\n",
        "plt.show()\n",
        "\n",
        "# Training and test accuracy\n",
        "acc_values_overfit = history_dict_overfit['acc']\n",
        "test_acc_values_overfit = history_dict_overfit['val_acc']\n",
        "plt.plot(epochs_range, acc_values_overfit, 'bo', label='Training accuracy')\n",
        "plt.plot(epochs_range, test_acc_values_overfit, 'ro', label='Test accuracy')\n",
        "plt.title('Training and test accuracy')\n",
        "plt.xlabel('Epochs')\n",
        "plt.ylabel('Accuracy')\n",
        "plt.legend()\n",
        "plt.show()"
      ],
      "execution_count": 3,
      "outputs": [
        {
          "output_type": "stream",
          "text": [
            "Train on 50000 samples, validate on 10000 samples\n",
            "Epoch 1/20\n",
            "50000/50000 [==============================] - 12s 237us/step - loss: 1.7583 - acc: 0.3758 - val_loss: 1.5327 - val_acc: 0.4576\n",
            "Epoch 2/20\n",
            "50000/50000 [==============================] - 12s 244us/step - loss: 1.4289 - acc: 0.4937 - val_loss: 1.3617 - val_acc: 0.5188\n",
            "Epoch 3/20\n",
            "50000/50000 [==============================] - 12s 246us/step - loss: 1.2693 - acc: 0.5514 - val_loss: 1.2439 - val_acc: 0.5560\n",
            "Epoch 4/20\n",
            "50000/50000 [==============================] - 13s 253us/step - loss: 1.1687 - acc: 0.5931 - val_loss: 1.1568 - val_acc: 0.5921\n",
            "Epoch 5/20\n",
            "50000/50000 [==============================] - 13s 256us/step - loss: 1.0911 - acc: 0.6196 - val_loss: 1.0982 - val_acc: 0.6180\n",
            "Epoch 6/20\n",
            "50000/50000 [==============================] - 13s 254us/step - loss: 1.0233 - acc: 0.6450 - val_loss: 1.0715 - val_acc: 0.6187\n",
            "Epoch 7/20\n",
            "50000/50000 [==============================] - 12s 247us/step - loss: 0.9657 - acc: 0.6648 - val_loss: 1.0346 - val_acc: 0.6403\n",
            "Epoch 8/20\n",
            "50000/50000 [==============================] - 12s 245us/step - loss: 0.9142 - acc: 0.6844 - val_loss: 1.0199 - val_acc: 0.6428\n",
            "Epoch 9/20\n",
            "50000/50000 [==============================] - 12s 245us/step - loss: 0.8626 - acc: 0.6994 - val_loss: 0.9943 - val_acc: 0.6512\n",
            "Epoch 10/20\n",
            "50000/50000 [==============================] - 12s 240us/step - loss: 0.8163 - acc: 0.7181 - val_loss: 0.9748 - val_acc: 0.6662\n",
            "Epoch 11/20\n",
            "50000/50000 [==============================] - 12s 246us/step - loss: 0.7708 - acc: 0.7330 - val_loss: 0.9673 - val_acc: 0.6685\n",
            "Epoch 12/20\n",
            "50000/50000 [==============================] - 12s 244us/step - loss: 0.7287 - acc: 0.7485 - val_loss: 0.9500 - val_acc: 0.6756\n",
            "Epoch 13/20\n",
            "50000/50000 [==============================] - 12s 243us/step - loss: 0.6887 - acc: 0.7618 - val_loss: 1.0181 - val_acc: 0.6598\n",
            "Epoch 14/20\n",
            "50000/50000 [==============================] - 12s 242us/step - loss: 0.6453 - acc: 0.7776 - val_loss: 1.0138 - val_acc: 0.6607\n",
            "Epoch 15/20\n",
            "50000/50000 [==============================] - 12s 241us/step - loss: 0.6069 - acc: 0.7930 - val_loss: 0.9489 - val_acc: 0.6841\n",
            "Epoch 16/20\n",
            "50000/50000 [==============================] - 12s 239us/step - loss: 0.5637 - acc: 0.8077 - val_loss: 0.9885 - val_acc: 0.6756\n",
            "Epoch 17/20\n",
            "50000/50000 [==============================] - 12s 240us/step - loss: 0.5264 - acc: 0.8209 - val_loss: 0.9927 - val_acc: 0.6829\n",
            "Epoch 18/20\n",
            "50000/50000 [==============================] - 12s 240us/step - loss: 0.4817 - acc: 0.8364 - val_loss: 0.9926 - val_acc: 0.6822\n",
            "Epoch 19/20\n",
            "50000/50000 [==============================] - 12s 240us/step - loss: 0.4447 - acc: 0.8507 - val_loss: 1.0117 - val_acc: 0.6842\n",
            "Epoch 20/20\n",
            "50000/50000 [==============================] - 12s 239us/step - loss: 0.4064 - acc: 0.8643 - val_loss: 1.0439 - val_acc: 0.6792\n"
          ],
          "name": "stdout"
        },
        {
          "output_type": "display_data",
          "data": {
            "image/png": "[encoded data removed]",
            "text/plain": [
              "<Figure size 432x288 with 1 Axes>"
            ]
          },
          "metadata": {
            "tags": []
          }
        },
        {
          "output_type": "display_data",
          "data": {
            "image/png": "[encoded data removed]",
            "text/plain": [
              "<Figure size 432x288 with 1 Axes>"
            ]
          },
          "metadata": {
            "tags": []
          }
        }
      ]
    },
    {
      "cell_type": "markdown",
      "metadata": {
        "id": "rt44vyY1xW9b",
        "colab_type": "text"
      },
      "source": [
        "# Goodfit model"
      ]
    },
    {
      "cell_type": "code",
      "metadata": {
        "id": "TIb4i7z2CStK",
        "colab_type": "code",
        "outputId": "ab6a7c4a-4b1c-4e58-acfd-8a0316f8a994",
        "colab": {
          "base_uri": "https://localhost:8080/",
          "height": 736
        }
      },
      "source": [
        "model_goodfit = models.Sequential()\n",
        "model_goodfit.add(layers.Conv2D(32, (3, 3), activation='relu', kernel_initializer='he_uniform', padding='same', input_shape=(32, 32, 3)))\n",
        "model_goodfit.add(layers.Conv2D(32, (3, 3), activation='relu', kernel_initializer='he_uniform', padding='same'))\n",
        "model_goodfit.add(layers.MaxPooling2D((2, 2)))\n",
        "model_goodfit.add(layers.Conv2D(128, (3, 3), activation='relu', kernel_initializer='he_uniform', padding='same'))\n",
        "model_goodfit.add(layers.Conv2D(128, (3, 3), activation='relu', kernel_initializer='he_uniform', padding='same'))\n",
        "model_goodfit.add(layers.MaxPooling2D((2, 2)))\n",
        "model_goodfit.add(layers.Conv2D(64, (3, 3), activation='relu', kernel_initializer='he_uniform', padding='same'))\n",
        "model_goodfit.add(layers.Conv2D(64, (3, 3), activation='relu', kernel_initializer='he_uniform', padding='same'))\n",
        "model_goodfit.add(layers.MaxPooling2D((2, 2)))\n",
        "model_goodfit.add(layers.Flatten())\n",
        "model_goodfit.add(layers.Dropout(0.4))\n",
        "model_goodfit.add(Dense(128, activation='relu', kernel_initializer='he_uniform'))\n",
        "model_goodfit.add(layers.Dense(10, activation='softmax'))\n",
        "\n",
        "opt = optimizers.SGD(lr=0.001, momentum=0.9)\n",
        "model_goodfit.compile(\n",
        "    optimizer=opt, \n",
        "    loss='categorical_crossentropy', \n",
        "    metrics=['accuracy']\n",
        ")\n",
        "\n",
        "epochs = 30\n",
        "history_goodfit = model_goodfit.fit(\n",
        "    train_images, \n",
        "    train_labels, \n",
        "    epochs=epochs, \n",
        "    batch_size=64,\n",
        "    verbose=1,\n",
        "    validation_data=(test_images, test_labels)\n",
        ")\n",
        "\n",
        "# Training/test loss/accuracy during training\n",
        "history_dict_goodfit = history_goodfit.history\n",
        "loss_values_goodfit = history_dict_goodfit['loss']\n",
        "test_loss_values_goodfit = history_dict_goodfit['val_loss']\n",
        "epochs_range = range(1, epochs+1)\n",
        "plt.plot(epochs_range, loss_values_goodfit, 'bo', label='Training loss')\n",
        "plt.plot(epochs_range, test_loss_values_goodfit, 'ro', label='Test loss')\n",
        "plt.title('Training and test loss')\n",
        "plt.xlabel('Epochs')\n",
        "plt.ylabel('Loss')\n",
        "plt.legend()\n",
        "plt.show()\n",
        "\n",
        "# Training and test accuracy\n",
        "acc_values_goodfit = history_dict_goodfit['acc']\n",
        "test_acc_values_goodfit = history_dict_goodfit['val_acc']\n",
        "plt.plot(epochs_range, acc_values_goodfit, 'bo', label='Training accuracy')\n",
        "plt.plot(epochs_range, test_acc_values_goodfit, 'ro', label='Test accuracy')\n",
        "plt.title('Training and test accuracy')\n",
        "plt.xlabel('Epochs')\n",
        "plt.ylabel('Accuracy')\n",
        "plt.legend()\n",
        "plt.show()"
      ],
      "execution_count": 0,
      "outputs": [
        {
          "output_type": "stream",
          "text": [
            "Train on 50000 samples, validate on 10000 samples\n",
            "Epoch 1/30\n",
            "50000/50000 [==============================] - 20s 409us/step - loss: 1.9609 - acc: 0.2728 - val_loss: 1.6336 - val_acc: 0.4041\n",
            "Epoch 2/30\n",
            "50000/50000 [==============================] - 20s 395us/step - loss: 1.6226 - acc: 0.4026 - val_loss: 1.4759 - val_acc: 0.4749\n",
            "Epoch 3/30\n",
            "50000/50000 [==============================] - 20s 393us/step - loss: 1.4688 - acc: 0.4646 - val_loss: 1.3553 - val_acc: 0.5201\n",
            "Epoch 4/30\n",
            "50000/50000 [==============================] - 20s 398us/step - loss: 1.3618 - acc: 0.5067 - val_loss: 1.2662 - val_acc: 0.5428\n",
            "Epoch 5/30\n",
            "50000/50000 [==============================] - 20s 401us/step - loss: 1.2710 - acc: 0.5440 - val_loss: 1.1768 - val_acc: 0.5824\n",
            "Epoch 6/30\n",
            "50000/50000 [==============================] - 20s 396us/step - loss: 1.1979 - acc: 0.5711 - val_loss: 1.0921 - val_acc: 0.6158\n",
            "Epoch 7/30\n",
            "50000/50000 [==============================] - 20s 392us/step - loss: 1.1123 - acc: 0.6059 - val_loss: 1.0230 - val_acc: 0.6342\n",
            "Epoch 8/30\n",
            "50000/50000 [==============================] - 20s 396us/step - loss: 1.0510 - acc: 0.6284 - val_loss: 0.9572 - val_acc: 0.6643\n",
            "Epoch 9/30\n",
            "50000/50000 [==============================] - 20s 393us/step - loss: 0.9928 - acc: 0.6488 - val_loss: 0.9282 - val_acc: 0.6742\n",
            "Epoch 10/30\n",
            "50000/50000 [==============================] - 20s 392us/step - loss: 0.9441 - acc: 0.6676 - val_loss: 0.9135 - val_acc: 0.6794\n",
            "Epoch 11/30\n",
            "50000/50000 [==============================] - 20s 393us/step - loss: 0.8966 - acc: 0.6841 - val_loss: 0.9031 - val_acc: 0.6803\n",
            "Epoch 12/30\n",
            "50000/50000 [==============================] - 20s 394us/step - loss: 0.8587 - acc: 0.6969 - val_loss: 0.8566 - val_acc: 0.7002\n",
            "Epoch 13/30\n",
            "50000/50000 [==============================] - 20s 392us/step - loss: 0.8302 - acc: 0.7092 - val_loss: 0.8425 - val_acc: 0.7037\n",
            "Epoch 14/30\n",
            "50000/50000 [==============================] - 20s 394us/step - loss: 0.7983 - acc: 0.7178 - val_loss: 0.7954 - val_acc: 0.7248\n",
            "Epoch 15/30\n",
            "50000/50000 [==============================] - 20s 392us/step - loss: 0.7714 - acc: 0.7291 - val_loss: 0.7688 - val_acc: 0.7289\n",
            "Epoch 16/30\n",
            "50000/50000 [==============================] - 20s 393us/step - loss: 0.7456 - acc: 0.7384 - val_loss: 0.7520 - val_acc: 0.7386\n",
            "Epoch 17/30\n",
            "50000/50000 [==============================] - 20s 393us/step - loss: 0.7193 - acc: 0.7464 - val_loss: 0.7456 - val_acc: 0.7445\n",
            "Epoch 18/30\n",
            "50000/50000 [==============================] - 20s 392us/step - loss: 0.6946 - acc: 0.7543 - val_loss: 0.7600 - val_acc: 0.7371\n",
            "Epoch 19/30\n",
            "50000/50000 [==============================] - 20s 392us/step - loss: 0.6781 - acc: 0.7633 - val_loss: 0.7371 - val_acc: 0.7426\n",
            "Epoch 20/30\n",
            "50000/50000 [==============================] - 20s 393us/step - loss: 0.6605 - acc: 0.7664 - val_loss: 0.7086 - val_acc: 0.7592\n",
            "Epoch 21/30\n",
            "22656/50000 [============>.................] - ETA: 9s - loss: 0.6313 - acc: 0.7746 "
          ],
          "name": "stdout"
        }
      ]
    },
    {
      "cell_type": "code",
      "metadata": {
        "id": "yZqi-o64oSvL",
        "colab_type": "code",
        "colab": {}
      },
      "source": [
        ""
      ],
      "execution_count": 0,
      "outputs": []
    }
  ]
}